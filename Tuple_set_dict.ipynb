{
 "cells": [
  {
   "cell_type": "markdown",
   "id": "2dacda55-2125-4178-a622-4b6504921846",
   "metadata": {},
   "source": [
    "# Class-5"
   ]
  },
  {
   "cell_type": "markdown",
   "id": "abb511af-e143-4bae-a7bb-0320af384924",
   "metadata": {},
   "source": [
    "## Tuple"
   ]
  },
  {
   "cell_type": "markdown",
   "id": "8f31e5d8-6356-4668-9b44-3d4c78238085",
   "metadata": {},
   "source": [
    "**()** Use circular braches in order to create tuple\n",
    "\n",
    "Unlike list tuple are **immutable**\n",
    "\n",
    "**indexing and slicing** operator is only possible on tuple"
   ]
  },
  {
   "cell_type": "code",
   "execution_count": 3,
   "id": "e9fd57b4-988d-40f3-871a-8d15f85a02f9",
   "metadata": {},
   "outputs": [
    {
     "data": {
      "text/plain": [
       "tuple"
      ]
     },
     "execution_count": 3,
     "metadata": {},
     "output_type": "execute_result"
    }
   ],
   "source": [
    "t = () # creating empty tuple\n",
    "type(t)"
   ]
  },
  {
   "cell_type": "code",
   "execution_count": 14,
   "id": "118c980b-a404-4a59-b284-35680fb2c254",
   "metadata": {},
   "outputs": [],
   "source": [
    "t1 = (1,2,3,4,5,5.,5,4+5j,'singh',True)\n"
   ]
  },
  {
   "cell_type": "code",
   "execution_count": 28,
   "id": "f602e6d5-010e-4976-8b10-3dae48ed5dcf",
   "metadata": {},
   "outputs": [
    {
     "data": {
      "text/plain": [
       "(1, 2, 3, 4, 5, 5.0, 5, (4+5j), 'singh', True)"
      ]
     },
     "execution_count": 28,
     "metadata": {},
     "output_type": "execute_result"
    }
   ],
   "source": [
    "## reverse of tuple\n",
    "t1[::-1]"
   ]
  },
  {
   "cell_type": "code",
   "execution_count": 15,
   "id": "8a753436-ed86-4465-b707-b4907e66405b",
   "metadata": {},
   "outputs": [
    {
     "name": "stdout",
     "output_type": "stream",
     "text": [
      "Address of tuple before changing 140436374023360\n",
      "Address of tuple after reversing 140436374024256\n"
     ]
    },
    {
     "data": {
      "text/plain": [
       "(True, 'singh', (4+5j), 5, 5.0, 5, 4, 3, 2, 1)"
      ]
     },
     "execution_count": 15,
     "metadata": {},
     "output_type": "execute_result"
    }
   ],
   "source": [
    "print('Address of tuple before changing',id(t1))\n",
    "t1 = t1[::-1]\n",
    "print('Address of tuple after reversing',id(t1))\n",
    "t1"
   ]
  },
  {
   "cell_type": "code",
   "execution_count": 18,
   "id": "2bcc0eb6-d170-4711-84a6-79ad1460a72b",
   "metadata": {},
   "outputs": [
    {
     "data": {
      "text/plain": [
       "(True, 'singh', (4+5j))"
      ]
     },
     "execution_count": 18,
     "metadata": {},
     "output_type": "execute_result"
    }
   ],
   "source": [
    "# Extracting 1st 3 elements of tuple\n",
    "t1[:3] "
   ]
  },
  {
   "cell_type": "code",
   "execution_count": 19,
   "id": "91676c6c-c185-40a2-8b90-f8045ff860ed",
   "metadata": {},
   "outputs": [
    {
     "data": {
      "text/plain": [
       "3"
      ]
     },
     "execution_count": 19,
     "metadata": {},
     "output_type": "execute_result"
    }
   ],
   "source": [
    "t1.count(5) # Return number of occurrences of value.\n"
   ]
  },
  {
   "cell_type": "code",
   "execution_count": 23,
   "id": "60f21cdb-74cc-4b6f-be18-48d36c6d4fe4",
   "metadata": {},
   "outputs": [
    {
     "data": {
      "text/plain": [
       "7"
      ]
     },
     "execution_count": 23,
     "metadata": {},
     "output_type": "execute_result"
    }
   ],
   "source": [
    "t1.index(3) # Return first index of value if found else raise value_error"
   ]
  },
  {
   "cell_type": "markdown",
   "id": "5bce083b-9eb4-4e0e-99da-19526b4d4168",
   "metadata": {
    "tags": []
   },
   "source": [
    "## Major differences between list and tuple\n",
    "\n",
    "1) Tuple are **immutable** where as list are **mutable**"
   ]
  },
  {
   "cell_type": "code",
   "execution_count": 38,
   "id": "3e96f0bb-2752-4607-878e-88fc6ac32003",
   "metadata": {},
   "outputs": [
    {
     "data": {
      "text/plain": [
       "(1, 2, 3, 4)"
      ]
     },
     "execution_count": 38,
     "metadata": {},
     "output_type": "execute_result"
    }
   ],
   "source": [
    "t2 = (1,2,3,4)\n",
    "t2"
   ]
  },
  {
   "cell_type": "code",
   "execution_count": 41,
   "id": "b2e36dc3-abcc-4968-9b78-41f5fe131c55",
   "metadata": {},
   "outputs": [
    {
     "data": {
      "text/plain": [
       "(1, 2, 3, 4, 1, 2, 3, 4, 1, 2, 3, 4)"
      ]
     },
     "execution_count": 41,
     "metadata": {},
     "output_type": "execute_result"
    }
   ],
   "source": [
    "t2 * 3 # replecting the tuple 3 times"
   ]
  },
  {
   "cell_type": "markdown",
   "id": "007a8fea-bbe8-496e-bf19-69282c73483b",
   "metadata": {},
   "source": [
    "## Nested Tuple"
   ]
  },
  {
   "cell_type": "code",
   "execution_count": 45,
   "id": "9e7d07ae-328a-4793-b5ea-20512e268e02",
   "metadata": {},
   "outputs": [
    {
     "data": {
      "text/plain": [
       "((1, 2, 3, 4), (5, 6, 7, 8))"
      ]
     },
     "execution_count": 45,
     "metadata": {},
     "output_type": "execute_result"
    }
   ],
   "source": [
    "t1 = (1,2,3,4)\n",
    "t2 = (5,6,7,8)\n",
    "t3 = (t1,t2) # nested tuple\n",
    "t3"
   ]
  },
  {
   "cell_type": "code",
   "execution_count": 51,
   "id": "06eeb7db-2cad-4d4f-aab2-273fa27df2e5",
   "metadata": {},
   "outputs": [
    {
     "name": "stdout",
     "output_type": "stream",
     "text": [
      "<class 'tuple'>\n"
     ]
    },
    {
     "data": {
      "text/plain": [
       "([1, 2, 3, 4],)"
      ]
     },
     "execution_count": 51,
     "metadata": {},
     "output_type": "execute_result"
    }
   ],
   "source": [
    "t4 = ([1,2,3,4],)\n",
    "print(type(t4))\n",
    "t4"
   ]
  },
  {
   "cell_type": "code",
   "execution_count": 52,
   "id": "86735c73-b38c-4e16-9231-7a132b4f62c6",
   "metadata": {},
   "outputs": [],
   "source": [
    "t4[0][0]= 100 "
   ]
  },
  {
   "cell_type": "code",
   "execution_count": 53,
   "id": "18f78921-5776-49ba-8146-98b387f0dac1",
   "metadata": {},
   "outputs": [
    {
     "data": {
      "text/plain": [
       "([100, 2, 3, 4],)"
      ]
     },
     "execution_count": 53,
     "metadata": {},
     "output_type": "execute_result"
    }
   ],
   "source": [
    "t4"
   ]
  },
  {
   "cell_type": "code",
   "execution_count": 55,
   "id": "08424797-b74b-4e2e-b62e-9601f387e077",
   "metadata": {},
   "outputs": [
    {
     "name": "stdout",
     "output_type": "stream",
     "text": [
      "<class 'list'>\n"
     ]
    }
   ],
   "source": [
    "print(type(t4[0]))"
   ]
  },
  {
   "cell_type": "markdown",
   "id": "f5f35ded-92b9-4660-bca1-fdca422fe273",
   "metadata": {},
   "source": [
    "# Set\n",
    "\n",
    "**{n}** curly braces with atleast 1 element is use to create set\n",
    "\n",
    "set does not contain **duplicates** element is will always store unique elements\n",
    "\n",
    "set is **unorderd** means the order in which elements are enterd is not preserved\n",
    "\n",
    "***NOTE:->*** you cannot access the elements of set using indexing because order is not maintain\n"
   ]
  },
  {
   "cell_type": "code",
   "execution_count": 4,
   "id": "1535e4be-fdb4-4728-a001-53cb97d997de",
   "metadata": {},
   "outputs": [
    {
     "data": {
      "text/plain": [
       "dict"
      ]
     },
     "execution_count": 4,
     "metadata": {},
     "output_type": "execute_result"
    }
   ],
   "source": [
    "type({}) #this will create dictonary"
   ]
  },
  {
   "cell_type": "code",
   "execution_count": 3,
   "id": "45b6df7a-5003-41cc-927a-cd3003ee8afa",
   "metadata": {},
   "outputs": [
    {
     "data": {
      "text/plain": [
       "set"
      ]
     },
     "execution_count": 3,
     "metadata": {},
     "output_type": "execute_result"
    }
   ],
   "source": [
    "type({5}) # this is a set"
   ]
  },
  {
   "cell_type": "code",
   "execution_count": 19,
   "id": "e1893901-2bbf-42cd-89a4-2fab518d9f08",
   "metadata": {},
   "outputs": [],
   "source": [
    "s2 = {1,1,2,3,48,9}  "
   ]
  },
  {
   "cell_type": "code",
   "execution_count": 6,
   "id": "f5600bfd-8436-4bd3-a8d8-38ec11cdd7e9",
   "metadata": {},
   "outputs": [
    {
     "data": {
      "text/plain": [
       "{1, 2, 3, 9, 48}"
      ]
     },
     "execution_count": 6,
     "metadata": {},
     "output_type": "execute_result"
    }
   ],
   "source": [
    "s2"
   ]
  },
  {
   "cell_type": "code",
   "execution_count": 8,
   "id": "5f6a9e7c-34ca-4074-93ce-3a3b88dc34c1",
   "metadata": {},
   "outputs": [
    {
     "name": "stdout",
     "output_type": "stream",
     "text": [
      "[48, 1, 2, 3, 9]\n"
     ]
    },
    {
     "data": {
      "text/plain": [
       "list"
      ]
     },
     "execution_count": 8,
     "metadata": {},
     "output_type": "execute_result"
    }
   ],
   "source": [
    "# convert set into list\n",
    "l2 = list(s2)\n",
    "print(l2)\n",
    "type(l2)"
   ]
  },
  {
   "cell_type": "code",
   "execution_count": 9,
   "id": "abe8655f-acc5-44c6-837b-e13d4ad0dd9d",
   "metadata": {},
   "outputs": [
    {
     "name": "stdout",
     "output_type": "stream",
     "text": [
      "(48, 1, 2, 3, 9)\n"
     ]
    },
    {
     "data": {
      "text/plain": [
       "tuple"
      ]
     },
     "execution_count": 9,
     "metadata": {},
     "output_type": "execute_result"
    }
   ],
   "source": [
    "# conversion of set to tuple\n",
    "t2 = tuple(s2)\n",
    "print(t2)\n",
    "type(t2)"
   ]
  },
  {
   "cell_type": "code",
   "execution_count": 11,
   "id": "934c37f1-8d19-4577-bda2-977e6f7348dc",
   "metadata": {},
   "outputs": [
    {
     "ename": "TypeError",
     "evalue": "unhashable type: 'list'",
     "output_type": "error",
     "traceback": [
      "\u001b[0;31m---------------------------------------------------------------------------\u001b[0m",
      "\u001b[0;31mTypeError\u001b[0m                                 Traceback (most recent call last)",
      "Cell \u001b[0;32mIn[11], line 1\u001b[0m\n\u001b[0;32m----> 1\u001b[0m s3 \u001b[38;5;241m=\u001b[39m {\u001b[38;5;241m1\u001b[39m,\u001b[38;5;241m2\u001b[39m,\u001b[38;5;241m3\u001b[39m,\u001b[38;5;241m4\u001b[39m,[\u001b[38;5;241m1\u001b[39m,\u001b[38;5;241m2\u001b[39m,\u001b[38;5;241m3\u001b[39m,\u001b[38;5;241m4\u001b[39m]}\n",
      "\u001b[0;31mTypeError\u001b[0m: unhashable type: 'list'"
     ]
    }
   ],
   "source": [
    "s3 = {1,2,3,4,[1,2,3,4]}\n"
   ]
  },
  {
   "cell_type": "code",
   "execution_count": 12,
   "id": "54904262-50e6-4c73-b998-a0d290e56b4d",
   "metadata": {},
   "outputs": [
    {
     "data": {
      "text/plain": [
       "{(1, 2, 3, 4), 1, 2, 3, 4}"
      ]
     },
     "execution_count": 12,
     "metadata": {},
     "output_type": "execute_result"
    }
   ],
   "source": [
    "s4 = {1,2,3,4,(1,2,3,4)}\n",
    "s4"
   ]
  },
  {
   "cell_type": "markdown",
   "id": "96bcfcc2-99d6-46d4-b5fa-7bf72e62d317",
   "metadata": {},
   "source": [
    "Set allow **tuple** to be its elements **[IMMUTABLE]**\n",
    "\n",
    "Set doesnot allow **list** to be its elements **[MUTABLE]**"
   ]
  },
  {
   "cell_type": "code",
   "execution_count": 15,
   "id": "c0a479ef-a191-46e2-a2e6-92356ed19cad",
   "metadata": {},
   "outputs": [
    {
     "ename": "TypeError",
     "evalue": "'set' object is not subscriptable",
     "output_type": "error",
     "traceback": [
      "\u001b[0;31m---------------------------------------------------------------------------\u001b[0m",
      "\u001b[0;31mTypeError\u001b[0m                                 Traceback (most recent call last)",
      "Cell \u001b[0;32mIn[15], line 1\u001b[0m\n\u001b[0;32m----> 1\u001b[0m \u001b[43ms4\u001b[49m\u001b[43m[\u001b[49m\u001b[38;5;241;43m0\u001b[39;49m\u001b[43m]\u001b[49m \u001b[38;5;66;03m# Indexing concept is not available in set\u001b[39;00m\n",
      "\u001b[0;31mTypeError\u001b[0m: 'set' object is not subscriptable"
     ]
    }
   ],
   "source": [
    "s4[0] # Indexing concept is not available in set"
   ]
  },
  {
   "cell_type": "code",
   "execution_count": 17,
   "id": "e3af87ff-0947-4a8c-afb1-cd1ca3fd7962",
   "metadata": {},
   "outputs": [
    {
     "name": "stdout",
     "output_type": "stream",
     "text": [
      "48\n",
      "1\n",
      "2\n",
      "3\n",
      "9\n"
     ]
    }
   ],
   "source": [
    "# we can traverse through set using for loop but you cannot use indexing \n",
    "for i in s2:\n",
    "    print(i)"
   ]
  },
  {
   "cell_type": "code",
   "execution_count": 20,
   "id": "cdca8be3-2e4f-4bc1-8034-bbcaaf4b09b1",
   "metadata": {},
   "outputs": [
    {
     "data": {
      "text/plain": [
       "{1, 2, 3, 9, 35, 48}"
      ]
     },
     "execution_count": 20,
     "metadata": {},
     "output_type": "execute_result"
    }
   ],
   "source": [
    "s2.add(35) # Add an element to a set.[INPLACE]\n",
    "s2"
   ]
  },
  {
   "cell_type": "code",
   "execution_count": 21,
   "id": "86c8a1d3-0e9b-4065-af4b-13e86e104b07",
   "metadata": {},
   "outputs": [
    {
     "data": {
      "text/plain": [
       "6"
      ]
     },
     "execution_count": 21,
     "metadata": {},
     "output_type": "execute_result"
    }
   ],
   "source": [
    "len(s2)"
   ]
  },
  {
   "cell_type": "code",
   "execution_count": 22,
   "id": "dec4722d-99c1-487c-9859-a7080ad1f858",
   "metadata": {},
   "outputs": [
    {
     "data": {
      "text/plain": [
       "48"
      ]
     },
     "execution_count": 22,
     "metadata": {},
     "output_type": "execute_result"
    }
   ],
   "source": [
    "s2.pop() # Remove and return an arbitary set elements.\n"
   ]
  },
  {
   "cell_type": "code",
   "execution_count": 23,
   "id": "30600fca-4aeb-4869-aaab-d88b380e01a3",
   "metadata": {},
   "outputs": [
    {
     "data": {
      "text/plain": [
       "{1, 2, 3, 9, 35}"
      ]
     },
     "execution_count": 23,
     "metadata": {},
     "output_type": "execute_result"
    }
   ],
   "source": [
    "s2"
   ]
  },
  {
   "cell_type": "code",
   "execution_count": 24,
   "id": "fea98ea3-f191-4713-a828-4c29c74c2f06",
   "metadata": {},
   "outputs": [
    {
     "data": {
      "text/plain": [
       "1"
      ]
     },
     "execution_count": 24,
     "metadata": {},
     "output_type": "execute_result"
    }
   ],
   "source": [
    "s2.pop()"
   ]
  },
  {
   "cell_type": "code",
   "execution_count": 25,
   "id": "1de42f7a-c38d-47ed-ad58-a4ffb3ca503b",
   "metadata": {},
   "outputs": [
    {
     "data": {
      "text/plain": [
       "{2, 3, 9, 35}"
      ]
     },
     "execution_count": 25,
     "metadata": {},
     "output_type": "execute_result"
    }
   ],
   "source": [
    "s2"
   ]
  },
  {
   "cell_type": "code",
   "execution_count": 26,
   "id": "4bb1f73e-e55e-4936-907b-dd3875eaba80",
   "metadata": {},
   "outputs": [
    {
     "data": {
      "text/plain": [
       "set()"
      ]
     },
     "execution_count": 26,
     "metadata": {},
     "output_type": "execute_result"
    }
   ],
   "source": [
    "s2.clear() # Remove all elements from this set\n",
    "s2"
   ]
  },
  {
   "cell_type": "code",
   "execution_count": 29,
   "id": "56f86830-c591-4057-9971-6185923156d4",
   "metadata": {},
   "outputs": [
    {
     "name": "stdout",
     "output_type": "stream",
     "text": [
      "s1 - s2: {4}\n",
      "s2 - s1: {5}\n"
     ]
    }
   ],
   "source": [
    "# checking difference between two sets\n",
    "s1 = {1,2,3,4}\n",
    "s2 = {1,2,3,5}\n",
    "print('s1 - s2:',s1.difference(s2))\n",
    "print('s2 - s1:',s2.difference(s1))"
   ]
  },
  {
   "cell_type": "markdown",
   "id": "9a33f291-2b09-4440-a33a-4a24dcfc56d5",
   "metadata": {},
   "source": [
    "# Dictonary"
   ]
  },
  {
   "cell_type": "markdown",
   "id": "402b743f-c3f2-4289-a3b9-5b4d13f5d599",
   "metadata": {},
   "source": [
    "**{}** with **key:value** pair is use to create dictonary\n",
    "\n",
    "**key :-->** it should be ***immutable** object\n",
    "\n",
    "**value :-->** it can be **mutable or immutable** object\n",
    "\n",
    "***NOTE:-->*** You cannot create key with **list,set or dict**"
   ]
  },
  {
   "cell_type": "code",
   "execution_count": 31,
   "id": "b26c1bb1-5fee-49be-a282-d3ebb4726ea6",
   "metadata": {},
   "outputs": [
    {
     "data": {
      "text/plain": [
       "dict"
      ]
     },
     "execution_count": 31,
     "metadata": {},
     "output_type": "execute_result"
    }
   ],
   "source": [
    "d1 = {}  #empty dictonary\n",
    "type(d1)"
   ]
  },
  {
   "cell_type": "code",
   "execution_count": 47,
   "id": "5138e105-a6ad-4949-9194-367d566a5b98",
   "metadata": {},
   "outputs": [],
   "source": [
    "d1= {'name':'Shalu','emial':'xyz@gmail.com','password':'alpha'}"
   ]
  },
  {
   "cell_type": "code",
   "execution_count": 48,
   "id": "1eb9cd28-c85c-4b48-be23-be57d6905979",
   "metadata": {},
   "outputs": [
    {
     "name": "stdout",
     "output_type": "stream",
     "text": [
      "{'name': 'Shalu', 'emial': 'xyz@gmail.com', 'password': 'alpha'}\n"
     ]
    }
   ],
   "source": [
    "print(d1)"
   ]
  },
  {
   "cell_type": "code",
   "execution_count": 40,
   "id": "fb5571ba-b53c-48e8-b1e7-6a21956e0964",
   "metadata": {},
   "outputs": [],
   "source": [
    "# key should be unique \n",
    "# id duplicate key is used then last dupicate value will be updated\n",
    "d2 = {'name':'Shalu','name':'Singh'}  "
   ]
  },
  {
   "cell_type": "code",
   "execution_count": 41,
   "id": "68968b4d-63d4-42da-85a0-0023c914642b",
   "metadata": {},
   "outputs": [
    {
     "data": {
      "text/plain": [
       "{'name': 'Singh'}"
      ]
     },
     "execution_count": 41,
     "metadata": {},
     "output_type": "execute_result"
    }
   ],
   "source": [
    "d2"
   ]
  },
  {
   "cell_type": "code",
   "execution_count": 49,
   "id": "f089fca1-e6ff-4901-ae1b-378d1b66fbb1",
   "metadata": {},
   "outputs": [],
   "source": [
    "d3 = {(145):{5,8,9}} #tuple is immutable so it can key"
   ]
  },
  {
   "cell_type": "code",
   "execution_count": 50,
   "id": "f779f743-2cdb-4343-8a7a-1759ee455463",
   "metadata": {},
   "outputs": [
    {
     "data": {
      "text/plain": [
       "{145: {5, 8, 9}}"
      ]
     },
     "execution_count": 50,
     "metadata": {},
     "output_type": "execute_result"
    }
   ],
   "source": [
    "d3"
   ]
  },
  {
   "cell_type": "markdown",
   "id": "a804bec6-45f7-4587-a3d4-3891a14c987a",
   "metadata": {},
   "source": [
    "## Nested Dictonary"
   ]
  },
  {
   "cell_type": "code",
   "execution_count": 56,
   "id": "89b21fce-117a-42bd-a50f-15b3a2ede0d0",
   "metadata": {},
   "outputs": [
    {
     "data": {
      "text/plain": [
       "{'key': {'name': 'Shalu', 'course': 'Data Science'}}"
      ]
     },
     "execution_count": 56,
     "metadata": {},
     "output_type": "execute_result"
    }
   ],
   "source": [
    "d4 = {'key':{'name':'Shalu','course':'Data Science'}} \n",
    "d4"
   ]
  },
  {
   "cell_type": "code",
   "execution_count": 57,
   "id": "ef4c8c97-580c-425f-ac5c-879e2c080bcf",
   "metadata": {},
   "outputs": [
    {
     "data": {
      "text/plain": [
       "'Shalu'"
      ]
     },
     "execution_count": 57,
     "metadata": {},
     "output_type": "execute_result"
    }
   ],
   "source": [
    "d4['key']['name']"
   ]
  },
  {
   "cell_type": "code",
   "execution_count": 59,
   "id": "910d0b09-c244-4aa5-8978-1300ab6edd7b",
   "metadata": {},
   "outputs": [
    {
     "data": {
      "text/plain": [
       "{'key': {'name': 'Shalu', 'course': 'Data Science'}, 'gender': 'Male'}"
      ]
     },
     "execution_count": 59,
     "metadata": {},
     "output_type": "execute_result"
    }
   ],
   "source": [
    "# adding new key:value pair in d4\n",
    "d4['gender'] = 'Male'\n",
    "d4"
   ]
  },
  {
   "cell_type": "code",
   "execution_count": 64,
   "id": "051df079-5903-42c2-ac5d-be362a253e05",
   "metadata": {},
   "outputs": [
    {
     "data": {
      "text/plain": [
       "dict_values([{'name': 'Shalu', 'course': 'Data Science'}, 'Male'])"
      ]
     },
     "execution_count": 64,
     "metadata": {},
     "output_type": "execute_result"
    }
   ],
   "source": [
    "d4.values()"
   ]
  },
  {
   "cell_type": "code",
   "execution_count": 67,
   "id": "bfa99456-a3ce-4004-8049-f113f88bfc64",
   "metadata": {},
   "outputs": [
    {
     "data": {
      "text/plain": [
       "dict_items([('key', {'name': 'Shalu', 'course': 'Data Science'}), ('gender', 'Male')])"
      ]
     },
     "execution_count": 67,
     "metadata": {},
     "output_type": "execute_result"
    }
   ],
   "source": [
    "# extracting key:value\n",
    "d4.items()\n"
   ]
  },
  {
   "cell_type": "code",
   "execution_count": 68,
   "id": "ad2b806d-802a-4363-bc3d-962df39be976",
   "metadata": {},
   "outputs": [
    {
     "data": {
      "text/plain": [
       "[('key', {'name': 'Shalu', 'course': 'Data Science'}), ('gender', 'Male')]"
      ]
     },
     "execution_count": 68,
     "metadata": {},
     "output_type": "execute_result"
    }
   ],
   "source": [
    "# converting dict to list\n",
    "lst = list(d4.items())\n",
    "lst"
   ]
  },
  {
   "cell_type": "code",
   "execution_count": 70,
   "id": "fe104a9e-87c6-4312-907e-f1ad8eab5891",
   "metadata": {},
   "outputs": [
    {
     "data": {
      "text/plain": [
       "{'key': {'name': 'Shalu', 'course': 'Data Science'}, 'gender': 'Male'}"
      ]
     },
     "execution_count": 70,
     "metadata": {},
     "output_type": "execute_result"
    }
   ],
   "source": [
    "# converting list to dict\n",
    "d5  = dict(lst)\n",
    "d5"
   ]
  },
  {
   "cell_type": "code",
   "execution_count": 73,
   "id": "8fd4c205-a775-47ca-9e7e-36c0022463f6",
   "metadata": {},
   "outputs": [],
   "source": [
    "d6 = d5.copy() # deep copying"
   ]
  },
  {
   "cell_type": "code",
   "execution_count": 74,
   "id": "19eb7cec-b689-4314-9e9a-f2a2c032ff6e",
   "metadata": {},
   "outputs": [
    {
     "data": {
      "text/plain": [
       "140526570385088"
      ]
     },
     "execution_count": 74,
     "metadata": {},
     "output_type": "execute_result"
    }
   ],
   "source": [
    "id(d5)"
   ]
  },
  {
   "cell_type": "code",
   "execution_count": 75,
   "id": "d868a62b-a6b3-4732-80cf-9077b156009e",
   "metadata": {},
   "outputs": [
    {
     "data": {
      "text/plain": [
       "140526150820544"
      ]
     },
     "execution_count": 75,
     "metadata": {},
     "output_type": "execute_result"
    }
   ],
   "source": [
    "id(d6)"
   ]
  },
  {
   "cell_type": "code",
   "execution_count": 76,
   "id": "8d171f07-f061-48f9-a00a-993e347dfbe8",
   "metadata": {},
   "outputs": [],
   "source": [
    "del d6['gender']"
   ]
  },
  {
   "cell_type": "code",
   "execution_count": 77,
   "id": "a34eea98-31d5-424d-94a4-79d4c939809c",
   "metadata": {},
   "outputs": [
    {
     "data": {
      "text/plain": [
       "({'key': {'name': 'Shalu', 'course': 'Data Science'}, 'gender': 'Male'},\n",
       " {'key': {'name': 'Shalu', 'course': 'Data Science'}})"
      ]
     },
     "execution_count": 77,
     "metadata": {},
     "output_type": "execute_result"
    }
   ],
   "source": [
    "d5,d6"
   ]
  },
  {
   "cell_type": "code",
   "execution_count": 79,
   "id": "6d025997-e68a-436e-9065-fccccc9de24f",
   "metadata": {},
   "outputs": [
    {
     "data": {
      "text/plain": [
       "{'g': 'Male', 'e': 'Male', 'n': 'Male', 'd': 'Male', 'r': 'Male'}"
      ]
     },
     "execution_count": 79,
     "metadata": {},
     "output_type": "execute_result"
    }
   ],
   "source": [
    "d6.fromkeys('gender','Male')"
   ]
  },
  {
   "cell_type": "code",
   "execution_count": 81,
   "id": "8113b4eb-9be1-492f-867d-102b44d6f575",
   "metadata": {},
   "outputs": [
    {
     "data": {
      "text/plain": [
       "{'key': {'name': 'Shalu', 'course': 'Data Science'}}"
      ]
     },
     "execution_count": 81,
     "metadata": {},
     "output_type": "execute_result"
    }
   ],
   "source": [
    "d6"
   ]
  },
  {
   "cell_type": "markdown",
   "id": "8428175c-a9ff-4e52-be99-11de31bd8134",
   "metadata": {},
   "source": [
    "## Dictonary Comprehensions"
   ]
  },
  {
   "cell_type": "code",
   "execution_count": 82,
   "id": "f9bcac6c-9f39-4cd1-9bc6-9f59a34845e9",
   "metadata": {},
   "outputs": [
    {
     "data": {
      "text/plain": [
       "{1: 1, 2: 4, 3: 9, 4: 16, 5: 25, 6: 36, 7: 49, 8: 64, 9: 81, 10: 100}"
      ]
     },
     "execution_count": 82,
     "metadata": {},
     "output_type": "execute_result"
    }
   ],
   "source": [
    "# Example_1:- key range(1,10): value square of key\n",
    "d7 = {i:i**2 for i in range(1,11)}\n",
    "d7"
   ]
  },
  {
   "cell_type": "code",
   "execution_count": 84,
   "id": "8f6cdc3d-d529-4bab-8758-c41bc147abc4",
   "metadata": {},
   "outputs": [
    {
     "data": {
      "text/plain": [
       "{1: 0.0,\n",
       " 2: 0.3010299956639812,\n",
       " 3: 0.47712125471966244,\n",
       " 4: 0.6020599913279624,\n",
       " 5: 0.6989700043360189,\n",
       " 6: 0.7781512503836436,\n",
       " 7: 0.8450980400142568,\n",
       " 8: 0.9030899869919435,\n",
       " 9: 0.9542425094393249,\n",
       " 10: 1.0}"
      ]
     },
     "execution_count": 84,
     "metadata": {},
     "output_type": "execute_result"
    }
   ],
   "source": [
    "# Example_2:- key range(1,10): value log10(key)\n",
    "import math\n",
    "d8 = {i:math.log10(i)for i in range(1,11)}\n",
    "d8"
   ]
  },
  {
   "cell_type": "code",
   "execution_count": 86,
   "id": "dd141da8-5f1c-424f-b79c-ccbb3c1b62a1",
   "metadata": {},
   "outputs": [],
   "source": [
    "# Example_3:- filter out values where key are even numbers\n",
    "val_ = {i:d8[i] for i in d8 if (i%2==0)}"
   ]
  },
  {
   "cell_type": "code",
   "execution_count": 87,
   "id": "b04dd682-ba3c-49c6-811c-bd1b4425149b",
   "metadata": {},
   "outputs": [
    {
     "data": {
      "text/plain": [
       "{2: 0.3010299956639812,\n",
       " 4: 0.6020599913279624,\n",
       " 6: 0.7781512503836436,\n",
       " 8: 0.9030899869919435,\n",
       " 10: 1.0}"
      ]
     },
     "execution_count": 87,
     "metadata": {},
     "output_type": "execute_result"
    }
   ],
   "source": [
    "val_"
   ]
  },
  {
   "cell_type": "code",
   "execution_count": null,
   "id": "baa9e73d-9249-40dc-981a-f31a4dfa9257",
   "metadata": {},
   "outputs": [],
   "source": []
  }
 ],
 "metadata": {
  "kernelspec": {
   "display_name": "Python 3 (ipykernel)",
   "language": "python",
   "name": "python3"
  },
  "language_info": {
   "codemirror_mode": {
    "name": "ipython",
    "version": 3
   },
   "file_extension": ".py",
   "mimetype": "text/x-python",
   "name": "python",
   "nbconvert_exporter": "python",
   "pygments_lexer": "ipython3",
   "version": "3.10.8"
  }
 },
 "nbformat": 4,
 "nbformat_minor": 5
}
