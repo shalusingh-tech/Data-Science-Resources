{
 "cells": [
  {
   "cell_type": "markdown",
   "id": "ce4671e3",
   "metadata": {},
   "source": [
    "# Assignment -1 "
   ]
  },
  {
   "cell_type": "markdown",
   "id": "303477d1",
   "metadata": {},
   "source": [
    "***Q.1) Who developed python programming language ?***"
   ]
  },
  {
   "cell_type": "markdown",
   "id": "247c5d66",
   "metadata": {},
   "source": [
    "Ans) <span class=\"mark\">Guido van Rossum</span> developed python in year 1980s"
   ]
  },
  {
   "cell_type": "markdown",
   "id": "27814d04",
   "metadata": {},
   "source": [
    "***Q.2) Which type of Programming does python support?***"
   ]
  },
  {
   "cell_type": "markdown",
   "id": "3163c885",
   "metadata": {
    "ExecuteTime": {
     "end_time": "2023-02-13T04:05:28.089566Z",
     "start_time": "2023-02-13T04:05:28.077547Z"
    }
   },
   "source": [
    "Ans) Python support several programming paradigms, including:-\n",
    "\n",
    "1)<span class=\"mark\">**Object-Oriented Programming (OOP)**</span>:--> Python has a features like class, and objects, inheritance, polymorphism,etc.,\n",
    "\n",
    "2) <span class=\"mark\">**Imperative Programming**</span>:--> This paradigm focuses on describing a sequence of tasks to be executed. Python supports imperative through control flow statement, for loops, and while loops.\n",
    "\n",
    "3) <span class=\"mark\">**Functional Programming**</span>:--> Python has support for functional programming through functions, anonymous functions, and higher-order functions.\n",
    "\n",
    "4) <span class=\"mark\">**Procedural Programming**</span>:--> Python can also be used for procedural programming, where a program is broken down into procedures or functions.\n",
    "\n",
    "5) <span class=\"mark\">**Scripting**</span>:--> Python can be used as a scripting language for automating tasks, as well as for creating standalone scripts for a variety of purpose.\n",
    "    \n",
    "    So,Python supports multiple programming paradigms and provides flexibility to developers to choose the right paradigm for their problem. "
   ]
  },
  {
   "cell_type": "code",
   "execution_count": null,
   "id": "28db9474",
   "metadata": {},
   "outputs": [],
   "source": []
  },
  {
   "cell_type": "markdown",
   "id": "a9863347",
   "metadata": {},
   "source": [
    "***Q.2) Is python case sensitive dealing with identifiers?***"
   ]
  },
  {
   "cell_type": "markdown",
   "id": "e25be64d",
   "metadata": {},
   "source": [
    "Ans) Yes, Python is case sensitive when dealing with identifiers. This means that the names you give to variables, function, classes,etc. must be <span class=\"mark\">`unique`</span> and must be written in the same case as when they were defined."
   ]
  },
  {
   "cell_type": "code",
   "execution_count": 7,
   "id": "f7d21378",
   "metadata": {
    "ExecuteTime": {
     "end_time": "2023-02-13T11:47:23.130774Z",
     "start_time": "2023-02-13T11:47:23.117773Z"
    }
   },
   "outputs": [
    {
     "ename": "NameError",
     "evalue": "name 'myvariable' is not defined",
     "output_type": "error",
     "traceback": [
      "\u001b[1;31m---------------------------------------------------------------------------\u001b[0m",
      "\u001b[1;31mNameError\u001b[0m                                 Traceback (most recent call last)",
      "\u001b[1;32m<ipython-input-7-c4563925253f>\u001b[0m in \u001b[0;36m<module>\u001b[1;34m\u001b[0m\n\u001b[0;32m      1\u001b[0m \u001b[0mmyVariable\u001b[0m \u001b[1;33m=\u001b[0m \u001b[1;36m10\u001b[0m  \u001b[1;31m# creating varible\u001b[0m\u001b[1;33m\u001b[0m\u001b[1;33m\u001b[0m\u001b[0m\n\u001b[1;32m----> 2\u001b[1;33m \u001b[0mtype\u001b[0m\u001b[1;33m(\u001b[0m\u001b[0mmyvariable\u001b[0m\u001b[1;33m)\u001b[0m \u001b[1;31m# case sensitive</div><i class=\"fa fa-lightbulb-o \"></i>\u001b[0m\u001b[1;33m\u001b[0m\u001b[1;33m\u001b[0m\u001b[0m\n\u001b[0m",
      "\u001b[1;31mNameError\u001b[0m: name 'myvariable' is not defined"
     ]
    }
   ],
   "source": [
    "\n",
    "myVariable = 10  # creating varible\n",
    "type(myvariable) # case sensitive</div><i class=\"fa fa-lightbulb-o \"></i>"
   ]
  },
  {
   "cell_type": "code",
   "execution_count": 8,
   "id": "dd9e497b",
   "metadata": {
    "ExecuteTime": {
     "end_time": "2023-02-13T11:47:23.366600Z",
     "start_time": "2023-02-13T11:47:23.346872Z"
    }
   },
   "outputs": [
    {
     "data": {
      "text/plain": [
       "int"
      ]
     },
     "execution_count": 8,
     "metadata": {},
     "output_type": "execute_result"
    }
   ],
   "source": [
    "type(myVariable)"
   ]
  },
  {
   "cell_type": "code",
   "execution_count": null,
   "id": "90a59e65",
   "metadata": {},
   "outputs": [],
   "source": []
  },
  {
   "cell_type": "markdown",
   "id": "a80d680d",
   "metadata": {},
   "source": [
    "***Q.4)What is the correct extension of python files?***"
   ]
  },
  {
   "cell_type": "markdown",
   "id": "9811d1fd",
   "metadata": {},
   "source": [
    "Ans) The correct file extension for python file is <span class = mark>`.py`</span>\n",
    ".This extension is used to indicate that the files is Python Script, and it can be executed by the Python interpreter."
   ]
  },
  {
   "cell_type": "code",
   "execution_count": null,
   "id": "764645a2",
   "metadata": {},
   "outputs": [],
   "source": []
  },
  {
   "cell_type": "markdown",
   "id": "c40485f2",
   "metadata": {
    "ExecuteTime": {
     "end_time": "2023-02-13T04:55:02.693318Z",
     "start_time": "2023-02-13T04:55:02.679323Z"
    }
   },
   "source": [
    "***Q.5) Is python code compiled or interpreted?***"
   ]
  },
  {
   "cell_type": "markdown",
   "id": "bf7d836e",
   "metadata": {},
   "source": [
    "Ans) Python is an interpreted language. This means that the source code is translated into machine-code at runtime, rather than being compiled in advance into a standalone executable. When a Python program is run, the interpreter reads the execute it line by line."
   ]
  },
  {
   "cell_type": "code",
   "execution_count": null,
   "id": "503a2cc3",
   "metadata": {},
   "outputs": [],
   "source": []
  },
  {
   "cell_type": "markdown",
   "id": "c84d7eed",
   "metadata": {},
   "source": [
    "***Q.6) Name few blocks of code used to define in python language?***"
   ]
  },
  {
   "cell_type": "markdown",
   "id": "e74a6c5a",
   "metadata": {},
   "source": [
    "\n",
    "Ans) 1.) **<span class=\"mark\">`Function definition`</span>**:-> A block of code that starts with **def** keyword and ends with a colon(:). Functions are used to encapsulate a set of statements that can be executed multiple times.\n",
    "\n",
    "2) **<span class=\"mark\">`Class definition`</span>**:-> A block of code that starts with the **class** keyword and ends with a colon(:). Classes are used to define objects and their behavior.\n",
    "\n",
    "3.) **<span class=\"mark\">`For loop`</span>**:-> A block of code that starts with the **for** keyword, followed by a loop variable and a sequence, and ends with a colon (:). The for loop is used to execute a set of statements for each item in a sequence.\n",
    "\n",
    "4.) **<span class=\"mark\">`While loop`</span>**:-> A block of code that starts with the **while** keyword, followed by a condition, and ends with a colon(:). The while loop is used to execute a set of statements repeatedly as long as a certain condition is **True**.\n",
    "\n",
    "5.) **<span class=\"mark\">`If statement`</span>**:-> A block of code that starts with the **if** keyword, followed by a condition, and ends with a colon(:). The if statements is used to conditionally execute a set of statements based on the value of a condition.\n",
    "\n",
    "6.) **<span class=\"mark\">`Try-except`</span>**:-> A block of code that starts the **try** keyword and ends with an **except** clause. The try-except block is used to catch exception and handle errors in a Python program."
   ]
  },
  {
   "cell_type": "code",
   "execution_count": null,
   "id": "495b2bc9",
   "metadata": {},
   "outputs": [],
   "source": []
  },
  {
   "cell_type": "markdown",
   "id": "79a3e4fd",
   "metadata": {},
   "source": [
    "***Q.7) State a character used to give single-line comments in Python?***"
   ]
  },
  {
   "cell_type": "markdown",
   "id": "7fd960d6",
   "metadata": {},
   "source": [
    "Ans) In python, the pound sign <span class = mark>**`#`**</span> is used to create a single line comment. Anything following the pound sign on a line is ignored by the interpreter and is not executed. This can be used to add human-readable explanations and notes to your code, which can help make it easier to understand and maintain."
   ]
  },
  {
   "cell_type": "code",
   "execution_count": 9,
   "id": "259efae7",
   "metadata": {
    "ExecuteTime": {
     "end_time": "2023-02-13T11:47:26.449242Z",
     "start_time": "2023-02-13T11:47:26.431743Z"
    }
   },
   "outputs": [],
   "source": [
    "# This is single line comment"
   ]
  },
  {
   "cell_type": "code",
   "execution_count": null,
   "id": "9a8f5b0b",
   "metadata": {},
   "outputs": [],
   "source": []
  },
  {
   "cell_type": "markdown",
   "id": "09d3dc9e",
   "metadata": {},
   "source": [
    "***Q.8) Mention the function which help us to find the version of python that we are currently working on?*** "
   ]
  },
  {
   "cell_type": "markdown",
   "id": "280f45ec",
   "metadata": {},
   "source": [
    "Ans) The <span class=\"mark\">**`sys`**</span> module in Python provides a method called <span class=\"girk\">`sys.version`</span>that returns a string indicating the version of Python that you are currently using along with build data and the specific version of interpreter."
   ]
  },
  {
   "cell_type": "code",
   "execution_count": 10,
   "id": "40a60444",
   "metadata": {
    "ExecuteTime": {
     "end_time": "2023-02-13T11:47:27.194642Z",
     "start_time": "2023-02-13T11:47:27.181041Z"
    }
   },
   "outputs": [
    {
     "name": "stdout",
     "output_type": "stream",
     "text": [
      "Current version of python is: 3.8.8 (default, Apr 13 2021, 15:08:03) [MSC v.1916 64 bit (AMD64)]\n"
     ]
    }
   ],
   "source": [
    "# Getting the current version of python\n",
    "import sys\n",
    "\n",
    "print(\"Current version of python is:\",sys.version)  #current version is 3.8.8, bild date:-. 13/4/21"
   ]
  },
  {
   "cell_type": "code",
   "execution_count": null,
   "id": "9d9b9292",
   "metadata": {},
   "outputs": [],
   "source": []
  },
  {
   "cell_type": "markdown",
   "id": "32ede01f",
   "metadata": {},
   "source": [
    "***Q.9)Python support the creation of anonymous function at runtime, using construct called ____?***"
   ]
  },
  {
   "cell_type": "markdown",
   "id": "706732b5",
   "metadata": {},
   "source": [
    "Ans) In python, anonymous functions at runtime can be created using the <span class=\"mark\">**`lambda`**</span> keyword. A lambda function is a small, anonymous function that is defined using the `lambda` keyword, followed by a set of input parameters, a colon(:), and an expression  that return a value. The expression is evaluated and returned whenever the lambda function is called."
   ]
  },
  {
   "cell_type": "code",
   "execution_count": 11,
   "id": "c11006aa",
   "metadata": {
    "ExecuteTime": {
     "end_time": "2023-02-13T11:47:28.111540Z",
     "start_time": "2023-02-13T11:47:28.106554Z"
    }
   },
   "outputs": [
    {
     "name": "stdout",
     "output_type": "stream",
     "text": [
      "Square of 5 is 25\n"
     ]
    }
   ],
   "source": [
    "# square of a number\n",
    "n = 5\n",
    "sqr = lambda n: n**2\n",
    "result = sqr(n)\n",
    "print(f'Square of {n} is {result}')"
   ]
  },
  {
   "cell_type": "code",
   "execution_count": null,
   "id": "990a3ce8",
   "metadata": {},
   "outputs": [],
   "source": []
  },
  {
   "cell_type": "markdown",
   "id": "632a18b8",
   "metadata": {},
   "source": [
    "***Q.10) What does pip stand for python?***"
   ]
  },
  {
   "cell_type": "markdown",
   "id": "ad545470",
   "metadata": {},
   "source": [
    "Ans) PIP stands for <span class=\"mark\">**`Pip Installs Packages`**</span>. It is package manager for python, which allows you to install and manage packages."
   ]
  },
  {
   "cell_type": "code",
   "execution_count": null,
   "id": "31f0609a",
   "metadata": {},
   "outputs": [],
   "source": []
  },
  {
   "cell_type": "markdown",
   "id": "b70ea144",
   "metadata": {},
   "source": [
    "***Q.11)Mention few built-in function in python***"
   ]
  },
  {
   "cell_type": "markdown",
   "id": "b3c3180a",
   "metadata": {},
   "source": [
    "Ans) 1.)<span class=\"mark\">**`print()`**</span>--> Prints the values to a stream, or to sys.stdout by default.\n",
    "\n",
    "  2.)<span class=\"mark\">**`input()`**</span>--> Read a string from standard input.\n",
    "  \n",
    "  3.)<span class=\"mark\">**`type()`**</span>--> Returns the type of the object.\n",
    "  \n",
    "  4.)<span class=\"mark\">**`len()`**</span>--> Return the number of items in a container.\n",
    "  \n",
    "  5.)<span class=\"mark\">**`min()`**</span>--> With a single iterable argument, return its smallest item.\n",
    "  \n",
    "  6.)<span class=\"mark\">**`max()`**</span>--> With a single iterable argument, return its largest item."
   ]
  },
  {
   "cell_type": "code",
   "execution_count": 12,
   "id": "aa207f6b",
   "metadata": {
    "ExecuteTime": {
     "end_time": "2023-02-13T11:47:30.305873Z",
     "start_time": "2023-02-13T11:47:30.288818Z"
    }
   },
   "outputs": [
    {
     "ename": "SyntaxError",
     "evalue": "invalid syntax (<ipython-input-12-6e5fe99df4b0>, line 1)",
     "output_type": "error",
     "traceback": [
      "\u001b[1;36m  File \u001b[1;32m\"<ipython-input-12-6e5fe99df4b0>\"\u001b[1;36m, line \u001b[1;32m1\u001b[0m\n\u001b[1;33m    <div class=\"mark\">\u001b[0m\n\u001b[1;37m    ^\u001b[0m\n\u001b[1;31mSyntaxError\u001b[0m\u001b[1;31m:\u001b[0m invalid syntax\n"
     ]
    }
   ],
   "source": [
    "<div class=\"mark\">\n",
    "</div><i class=\"fa fa-lightbulb-o \"></i>"
   ]
  },
  {
   "cell_type": "markdown",
   "id": "da857e4e",
   "metadata": {},
   "source": [
    "***Q.12) What is the maximum possible length of identifier in python?***"
   ]
  },
  {
   "cell_type": "markdown",
   "id": "27a2dc59",
   "metadata": {},
   "source": [
    "Ans) In python, the maximum possible length of identifier is <span class = mark>**`79 characters`**</span>."
   ]
  },
  {
   "cell_type": "code",
   "execution_count": null,
   "id": "9d158500",
   "metadata": {},
   "outputs": [],
   "source": []
  },
  {
   "cell_type": "markdown",
   "id": "5aa601e3",
   "metadata": {},
   "source": [
    "***Q.13)What are the benefits of using python?***"
   ]
  },
  {
   "cell_type": "markdown",
   "id": "ac95a3c4",
   "metadata": {},
   "source": [
    "Ans) \n",
    "1.)<span class=\"mark\">**`Easy to learn`**</span>--> Python  has a clean, readable syntax that is easy to learn.\n",
    "\n",
    "2.)<span class=\"mark\">**`Versatile`**</span>--> Python can be used for a wide range of application, from web development to scientific computing,etc.\n",
    "\n",
    "3.)<span class=\"mark\">**`Great libraries`**</span>--> Python has a rich set of libraries and tools, including popular library for data analysis and visualization, machine learning, and web development.\n",
    "\n",
    "4.)<span class=\"mark\">**`Cross-platform`**</span>--> Python  can run on multiple operating systems, including Windows, macOS, and Linux, making it easy to develop an deploy applications on different platforms.\n",
    "\n",
    "5.<span class=\"mark\">**`High-level language`**</span>--> Python is a high level language, meaning that it abstracts away many of the low-level details of the hardware.\n",
    "\n",
    "6.<span class=\"mark\">**`Dynamic typing`**</span>--> Python supports, dynamic typing which  means that you can change the type of a variable during runtime.\n"
   ]
  },
  {
   "cell_type": "code",
   "execution_count": null,
   "id": "e3008d07",
   "metadata": {},
   "outputs": [],
   "source": []
  },
  {
   "cell_type": "markdown",
   "id": "1a2c3c08",
   "metadata": {},
   "source": [
    "***Q.14) How is memory manged in python?***"
   ]
  },
  {
   "cell_type": "markdown",
   "id": "638bb035",
   "metadata": {},
   "source": [
    "Ans) \n",
    "1.) Python uses a <span class = mark> **`memory manager`**</span>, which is part of the Python interpreter, to handle memory management.\n",
    "\n",
    "2.) All data in python is stored in objects, and the memory manager dynamically allocates and frees memory for these objects as they are created and destroyed.\n",
    "\n",
    "3.)Python uses <span class = mark>**`reference-counting system`**</span> to keep track of the number of references to each object in memory.\n",
    "\n",
    "4.)When the reference count of an object reaches **zero**, the memory occupied by that object is automatically freed by the <span class = mark>**`garbage collector`**.</span>\n",
    "\n",
    "5.)Python also uses a <span class = mark>**`cycle-detecting`**</span> garbage collector to handle cases <span class= mark>***where two or more object reference each other***</span>,creating a cycle that can't be broken by reference counting alone.\n",
    "\n"
   ]
  },
  {
   "cell_type": "code",
   "execution_count": null,
   "id": "1d543a8a",
   "metadata": {},
   "outputs": [],
   "source": []
  },
  {
   "cell_type": "markdown",
   "id": "52090a72",
   "metadata": {},
   "source": [
    "***Q.15)How to install python on windows and set path variables?***"
   ]
  },
  {
   "cell_type": "markdown",
   "id": "31047241",
   "metadata": {},
   "source": [
    "Ans) **Here are the steps to install Python on a Windows machine and set the environment variables:**\n",
    "\n",
    "1.)<span class = mark>**`Download Python:`**</span> Visit the official Python website (https://www.python.org/downloads/) and download the latest version of Python for Windows.\n",
    "\n",
    "2.)<span class = mark>**`Install Python:`**</span> Double-click the downloaded file and follow the instructions to complete the installation. Make sure to select the option to \"Add Python to environment variables\" during the installation process.\n",
    "\n",
    "3.)<span class = mark>**`Verify the installation:`**</span> Open a Command Prompt window and run the following `command: python`. If the installation was successful, you should see the Python prompt >>> indicating that the Python interpreter is ready for use.\n",
    "\n",
    "4.)<span class = mark>**`Set the Path environment variable:`**</span> To make it easier to run Python from any directory, you can add the location of your Python installation to the Path environment variable. Here's how:\n",
    "\n",
    "a. Right-click on the Windows Start menu and select System.\n",
    "\n",
    "b. Click on <span class = mark>`\"Advanced system settings\"`</span>.\n",
    "\n",
    "c. Click on the <span class = mark>`\"Environment Variables\"`</span> button.\n",
    "\n",
    "d. Under System Variables, find the Path variable and click on \"Edit\".\n",
    "\n",
    "e. Click on \"New\" and add the location of your Python installation, typically C:\\PythonXX\\, where XX is the version number.\n",
    "\n",
    "f. Close all open windows and restart any Command Prompt windows for the changes to take effect."
   ]
  },
  {
   "cell_type": "code",
   "execution_count": null,
   "id": "4fe64ad9",
   "metadata": {
    "ExecuteTime": {
     "end_time": "2023-02-13T06:43:15.715596Z",
     "start_time": "2023-02-13T06:43:15.698607Z"
    }
   },
   "outputs": [],
   "source": []
  },
  {
   "cell_type": "markdown",
   "id": "62cc32ff",
   "metadata": {
    "ExecuteTime": {
     "end_time": "2023-02-13T06:43:51.717646Z",
     "start_time": "2023-02-13T06:43:44.655141Z"
    }
   },
   "source": [
    "***Q.16) Is indentation is required in python?***"
   ]
  },
  {
   "cell_type": "markdown",
   "id": "a6a47708",
   "metadata": {},
   "source": [
    "Ans) Yes, indentation `:` is required in python and it is used to encapsulate block of code."
   ]
  },
  {
   "cell_type": "code",
   "execution_count": null,
   "id": "fd15f566",
   "metadata": {},
   "outputs": [],
   "source": []
  }
 ],
 "metadata": {
  "kernelspec": {
   "display_name": "Python 3",
   "language": "python",
   "name": "python3"
  },
  "language_info": {
   "codemirror_mode": {
    "name": "ipython",
    "version": 3
   },
   "file_extension": ".py",
   "mimetype": "text/x-python",
   "name": "python",
   "nbconvert_exporter": "python",
   "pygments_lexer": "ipython3",
   "version": "3.8.8"
  },
  "toc": {
   "base_numbering": 1,
   "nav_menu": {},
   "number_sections": true,
   "sideBar": true,
   "skip_h1_title": false,
   "title_cell": "Table of Contents",
   "title_sidebar": "Contents",
   "toc_cell": false,
   "toc_position": {},
   "toc_section_display": true,
   "toc_window_display": false
  },
  "varInspector": {
   "cols": {
    "lenName": 16,
    "lenType": 16,
    "lenVar": 40
   },
   "kernels_config": {
    "python": {
     "delete_cmd_postfix": "",
     "delete_cmd_prefix": "del ",
     "library": "var_list.py",
     "varRefreshCmd": "print(var_dic_list())"
    },
    "r": {
     "delete_cmd_postfix": ") ",
     "delete_cmd_prefix": "rm(",
     "library": "var_list.r",
     "varRefreshCmd": "cat(var_dic_list()) "
    }
   },
   "types_to_exclude": [
    "module",
    "function",
    "builtin_function_or_method",
    "instance",
    "_Feature"
   ],
   "window_display": false
  }
 },
 "nbformat": 4,
 "nbformat_minor": 5
}
