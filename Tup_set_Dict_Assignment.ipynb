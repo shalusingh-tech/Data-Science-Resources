{
 "cells": [
  {
   "cell_type": "markdown",
   "id": "10c11fb4-755f-43a8-b9ef-906c461e76b2",
   "metadata": {},
   "source": [
    "# Assignment"
   ]
  },
  {
   "cell_type": "markdown",
   "id": "f615563c-47eb-4662-8549-88c4515df482",
   "metadata": {},
   "source": [
    "***Q1. What are the characteristics of the tuples? Is tuple immutable?***"
   ]
  },
  {
   "cell_type": "markdown",
   "id": "e11e4064-cdc1-48d2-963b-82277922091c",
   "metadata": {},
   "source": [
    "Ans) Characters of tuples are:-\n",
    "1.) We can create tuple using **()** circular braches\n",
    "\n",
    "2.) Tuple is **similar** to list \n",
    "\n",
    "3.) Tuple can store homogenous(same data type) or hetrogenous type of elements\n",
    "\n",
    "4.) Tuple is ordered datatype i.e. it preserves the order of elements in which they are entred\n",
    "\n",
    "5.) Traversing is possible in tuple using indexing and slicing \n",
    "\n",
    "Tuple is **immutable** we cannot override the element at particular index and modification is not possible in existing tuple."
   ]
  },
  {
   "cell_type": "code",
   "execution_count": null,
   "id": "6e35875f-44fc-4ac7-b44b-8bcd6406a095",
   "metadata": {},
   "outputs": [],
   "source": []
  },
  {
   "cell_type": "markdown",
   "id": "2bf2644f-78f1-4950-8782-73a93682343a",
   "metadata": {},
   "source": [
    "***Q2. What are the two tuple methods in python? Give an example of each method. Give a reason why\n",
    "tuples have only two in-built methods as compared to Lists.***"
   ]
  },
  {
   "cell_type": "markdown",
   "id": "fb9f66ff-e859-4c71-b515-68e9aba53bcf",
   "metadata": {},
   "source": [
    "Ans) The two tuple methods are:-\n",
    "\n",
    "1.) tuple.count(`value`):-  Return number of occurrences of value.\n",
    "\n",
    "2.) tuple.index(`value`):- Return first index of value if found else Raises ValueError if the value is not present."
   ]
  },
  {
   "cell_type": "code",
   "execution_count": 5,
   "id": "800302e2-45cf-4d19-8215-63391829ef2a",
   "metadata": {},
   "outputs": [
    {
     "name": "stdout",
     "output_type": "stream",
     "text": [
      "Occurrences of element 3 is 2\n"
     ]
    }
   ],
   "source": [
    "t1 = (1,2,3,3,4,5,6,2,9)  # creating a tuple\n",
    "print('Occurrences of element 3 is',t1.count(3))  # counting occurrence of 3"
   ]
  },
  {
   "cell_type": "code",
   "execution_count": 6,
   "id": "3152f2f7-6837-4c3d-9591-657436a5de2c",
   "metadata": {},
   "outputs": [
    {
     "name": "stdout",
     "output_type": "stream",
     "text": [
      "Index of element 3 is 1\n"
     ]
    }
   ],
   "source": [
    "print('Index of element 3 is',t1.index(2)) "
   ]
  },
  {
   "cell_type": "markdown",
   "id": "c234184a-0aa2-498f-9bf5-d061e0dad99f",
   "metadata": {},
   "source": [
    "Since, tuple is **immutable** any method which can modify the element of tuple are not included. `count(),index()` is only present \n",
    "because they do not modify tuple they only perform read operation on tuple"
   ]
  },
  {
   "cell_type": "code",
   "execution_count": null,
   "id": "de5fb258-d444-48b9-a289-238d5e99c0f9",
   "metadata": {},
   "outputs": [],
   "source": []
  },
  {
   "cell_type": "markdown",
   "id": "99880765-00b2-4624-9ba1-8083a3f3a7eb",
   "metadata": {},
   "source": [
    "***Q3. Which collection datatypes in python do not allow duplicate items? Write a code using a set to remove\n",
    "duplicates from the given list.***\n",
    "\n",
    "List = [1, 1, 1, 2, 1, 3, 1, 4, 2, 1, 2, 2, 2, 3, 2, 4, 3, 1, 3, 2, 3, 3, 3, 4, 4, 1, 4, 2, 4, 3, 4, 4]"
   ]
  },
  {
   "cell_type": "markdown",
   "id": "f6549c31-aedf-4ad4-8fe9-27775f9d8503",
   "metadata": {},
   "source": [
    "Ans) **Set** datatype in python do not allow duplicate items."
   ]
  },
  {
   "cell_type": "code",
   "execution_count": 10,
   "id": "95daa519-c09a-45de-88c4-f3b155f88672",
   "metadata": {},
   "outputs": [
    {
     "name": "stdout",
     "output_type": "stream",
     "text": [
      "List before removing duplicate elements: \n",
      "[1, 1, 1, 2, 1, 3, 1, 4, 2, 1, 2, 2, 2, 3, 2, 4, 3, 1, 3, 2, 3, 3, 3, 4, 4, 1, 4, 2, 4, 3, 4, 4]\n",
      "List after removing duplicate elements: \n",
      "[1, 2, 3, 4]\n"
     ]
    }
   ],
   "source": [
    "List = [1, 1, 1, 2, 1, 3, 1, 4, 2, 1, 2, 2, 2, 3, 2, 4, 3, 1, 3, 2, 3, 3, 3, 4, 4, 1, 4, 2, 4, 3, 4, 4]\n",
    "\n",
    "print(f'List before removing duplicate elements: \\n{List}')\n",
    "set_1 = set(List) # converting list to set inorder to remove duplicate elements\n",
    "List = list(set_1)\n",
    "print(f'List after removing duplicate elements: \\n{List}')"
   ]
  },
  {
   "cell_type": "code",
   "execution_count": null,
   "id": "3c7dd5d7-8f91-4e9f-9b52-2b5ae2305037",
   "metadata": {},
   "outputs": [],
   "source": []
  },
  {
   "cell_type": "markdown",
   "id": "15503349-6f6c-48f2-9d1d-4cbececfcb28",
   "metadata": {},
   "source": [
    "***Q4. Explain the difference between the union() and update() methods for a set. Give an example of\n",
    "each method.***"
   ]
  },
  {
   "cell_type": "code",
   "execution_count": null,
   "id": "29a9de74-57f5-4e99-916a-98697c7a650d",
   "metadata": {},
   "outputs": [],
   "source": [
    "Ans) \n",
    "1.) set.union(`value`) :--> Return the union of sets as a new set i.e. all elements that are in either set. `type(value) --> set`. not  INPLACE operation\n",
    "\n",
    "2.) set.update(`value`) :--> Update a set with the union of itself and others. INPLACE operation\n",
    "\n"
   ]
  },
  {
   "cell_type": "code",
   "execution_count": 35,
   "id": "063c5cd1-6749-48b4-9c14-94ba4dfb975e",
   "metadata": {},
   "outputs": [
    {
     "name": "stdout",
     "output_type": "stream",
     "text": [
      "set_1: {1, 2, 3, 4},  set_2 {4, 5, 6, 7, 8}\n"
     ]
    }
   ],
   "source": [
    "set_1 = {1,2,3,4}   #creating set\n",
    "set_2 = {5,6,7,8,4}\n",
    "print(f'set_1: {set_1},  set_2 {set_2}')"
   ]
  },
  {
   "cell_type": "code",
   "execution_count": 36,
   "id": "958ed8ba-4eaa-4367-9365-257fe1a60379",
   "metadata": {},
   "outputs": [
    {
     "name": "stdout",
     "output_type": "stream",
     "text": [
      "set_1 U set_2 {1, 2, 3, 4, 5, 6, 7, 8}\n"
     ]
    }
   ],
   "source": [
    "# union\n",
    "print('set_1 U set_2',set_1.union(set_2))"
   ]
  },
  {
   "cell_type": "code",
   "execution_count": 37,
   "id": "381ddb6d-268d-44e5-8a3f-d83d211525c3",
   "metadata": {},
   "outputs": [
    {
     "data": {
      "text/plain": [
       "{1, 2, 3, 4}"
      ]
     },
     "execution_count": 37,
     "metadata": {},
     "output_type": "execute_result"
    }
   ],
   "source": [
    "set_1 # original data is not modified"
   ]
  },
  {
   "cell_type": "code",
   "execution_count": 38,
   "id": "0c1178f1-85e8-4f47-adc9-2ccdafe11105",
   "metadata": {},
   "outputs": [
    {
     "name": "stdout",
     "output_type": "stream",
     "text": [
      "Updated set_1 {1, 2, 3, 4, 5, 6, 7, 8}\n"
     ]
    }
   ],
   "source": [
    "# update\n",
    "set_1.update(set_2) # updating set_1\n",
    "print('Updated set_1',set_1)"
   ]
  },
  {
   "cell_type": "code",
   "execution_count": 33,
   "id": "3f9b15b4-6a3d-4bc5-b65e-7cdd5c8736ef",
   "metadata": {},
   "outputs": [],
   "source": []
  },
  {
   "cell_type": "markdown",
   "id": "25c83bbb-0e79-4ca1-9c6d-80c0cbc5d194",
   "metadata": {},
   "source": [
    "***Q5. What is a dictionary? Give an example. Also, state whether a dictionary is ordered or unordered.***"
   ]
  },
  {
   "cell_type": "markdown",
   "id": "d52aec8b-544c-4c19-b7d1-418e35c7a1c9",
   "metadata": {},
   "source": [
    "Ans) **Dictionary** is a datatype in which we store elements in `key:value` pairs\n",
    "\n",
    "**Regular** dictonary are `unordered`, but if you want to store element in ordered manner then you can go for **Ordered** dictonary"
   ]
  },
  {
   "cell_type": "code",
   "execution_count": 40,
   "id": "f2f43847-4a97-4945-a16e-0cdea1069af0",
   "metadata": {},
   "outputs": [
    {
     "name": "stdout",
     "output_type": "stream",
     "text": [
      "{'name': 'Shalu Singh', 'course_name': 'Data Science Masters', 'gender': 'Male', 'age': 22}\n",
      "<class 'dict'>\n"
     ]
    }
   ],
   "source": [
    "dic1 = {'name':'Shalu Singh','course_name':'Data Science Masters','gender':'Male','age':22} # creating dictonary\n",
    "print(dic1)\n",
    "print(type(dic1))\n"
   ]
  },
  {
   "cell_type": "code",
   "execution_count": null,
   "id": "78465a7b-2894-4584-b7c0-70878cd7a1ca",
   "metadata": {},
   "outputs": [],
   "source": []
  },
  {
   "cell_type": "markdown",
   "id": "407fd540-9b5c-4016-bf01-5d8172588b3d",
   "metadata": {},
   "source": [
    "***Q6. Can we create a nested dictionary? If so, please give an example by creating a simple one-level\n",
    "nested dictionary.***"
   ]
  },
  {
   "cell_type": "markdown",
   "id": "08ac24d8-7a79-4a89-9bcd-1b3e4fb4cc23",
   "metadata": {},
   "source": [
    "Ans) Yes, we can nested dictionary"
   ]
  },
  {
   "cell_type": "code",
   "execution_count": 43,
   "id": "955737ff-5ec1-4e5b-9193-941a09bea87d",
   "metadata": {},
   "outputs": [
    {
     "name": "stdout",
     "output_type": "stream",
     "text": [
      "{'name': 'Shalu Singh', 'gender': 'Male', 'age': 22, 'marks': {'maths': 77, 'eng': 82, 'phy': 80}}\n",
      "Marks in maths: 77\n"
     ]
    }
   ],
   "source": [
    "# Creating nested dictonary\n",
    "dic2 = {'name':'Shalu Singh', \n",
    "        'gender':'Male',\n",
    "        'age':22,\n",
    "        'marks':{'maths':77,'eng':82,'phy':80}\n",
    "       }\n",
    "print(dic2)\n",
    "print('Marks in maths:',dic2['marks']['maths'])\n",
    "      "
   ]
  },
  {
   "cell_type": "code",
   "execution_count": null,
   "id": "cfe407c2-029a-407c-9929-5e0bcbe23858",
   "metadata": {},
   "outputs": [],
   "source": []
  },
  {
   "cell_type": "markdown",
   "id": "ad4249f4-4930-4dad-8b4e-c77353dde343",
   "metadata": {},
   "source": [
    "***Q7. Using setdefault() method, create key named topics in the given dictionary and also add the value of the key as this list `['Python', 'Machine Learning’, 'Deep Learning']`***\n",
    "\n",
    "dict1 = {'language' : 'Python', 'course': 'Data Science Masters'}"
   ]
  },
  {
   "cell_type": "code",
   "execution_count": 52,
   "id": "10bff7ed-2a40-49e0-a76b-53fa0424155b",
   "metadata": {},
   "outputs": [
    {
     "name": "stdout",
     "output_type": "stream",
     "text": [
      "{'language': 'Python', 'course': 'Data Science Masters'}\n",
      "{'language': 'Python', 'course': 'Data Science Masters', 'topics': ['Python', 'Machine Learning', 'Deep Learning']}\n"
     ]
    }
   ],
   "source": [
    "topics = ['Python','Machine Learning','Deep Learning']\n",
    "dict1 = {'language':'Python',\n",
    "        'course':'Data Science Masters',\n",
    "       }\n",
    "print(dict1)\n",
    "dict1.setdefault('topics',topics) # Insert key with a value of default if key is not in the dictionary.\n",
    "print(dict1)"
   ]
  },
  {
   "cell_type": "code",
   "execution_count": null,
   "id": "2d3ab99e-0126-4ef0-adac-14f0c96e6b4b",
   "metadata": {},
   "outputs": [],
   "source": []
  },
  {
   "cell_type": "markdown",
   "id": "8ada3d9b-0ede-48a1-a33d-27bd8e2672e2",
   "metadata": {},
   "source": [
    "***Q8. What are the three view objects in dictionaries? Use the three in-built methods in python to display\n",
    "these three view objects for the given dictionary.***\n",
    "\n",
    "dict1 = {'Sport': 'Cricket' , 'Teams': ['India', 'Australia', 'England', 'South Africa', 'Sri Lanka', 'New Zealand']}"
   ]
  },
  {
   "cell_type": "markdown",
   "id": "c1594241-d934-4b4e-b9da-4b683670e12d",
   "metadata": {},
   "source": [
    "Ans) The main view objects of dictionary in python are :- \n",
    "1) `dict.keys()` :--> it holds all the keys of dictonary\n",
    "\n",
    "2) `dict.values()` :--> it holds **all** the values of dictonary\n",
    "\n",
    "\n",
    "3) `dict.items()` :--> if holds **all** `key:value` pairs "
   ]
  },
  {
   "cell_type": "code",
   "execution_count": 58,
   "id": "10a98892-ba4d-44ff-a3ac-0a13f4389f3d",
   "metadata": {},
   "outputs": [
    {
     "name": "stdout",
     "output_type": "stream",
     "text": [
      "keys of dict1 are: dict_keys(['Sport', 'Teams'])\n",
      "\n",
      "values of dict1 are: dict_values(['Cricket', ['India', 'Australia', 'England', 'South Africa', 'Sri Lanka', 'New Zealand']])\n",
      "\n",
      "key:value pairs of dict1 are: dict_items([('Sport', 'Cricket'), ('Teams', ['India', 'Australia', 'England', 'South Africa', 'Sri Lanka', 'New Zealand'])])\n"
     ]
    }
   ],
   "source": [
    "dict1 = {'Sport': 'Cricket' , 'Teams': ['India', 'Australia', 'England', 'South Africa', 'Sri Lanka', 'New Zealand']}\n",
    "\n",
    "print('keys of dict1 are:',dict1.keys(),end = '\\n\\n')\n",
    "print('values of dict1 are:',dict1.values(),end = '\\n\\n')\n",
    "print('key:value pairs of dict1 are:',dict1.items())"
   ]
  },
  {
   "cell_type": "code",
   "execution_count": null,
   "id": "15313b49-1823-4eed-9cce-09d358eb050b",
   "metadata": {},
   "outputs": [],
   "source": []
  }
 ],
 "metadata": {
  "kernelspec": {
   "display_name": "Python 3 (ipykernel)",
   "language": "python",
   "name": "python3"
  },
  "language_info": {
   "codemirror_mode": {
    "name": "ipython",
    "version": 3
   },
   "file_extension": ".py",
   "mimetype": "text/x-python",
   "name": "python",
   "nbconvert_exporter": "python",
   "pygments_lexer": "ipython3",
   "version": "3.10.8"
  }
 },
 "nbformat": 4,
 "nbformat_minor": 5
}
